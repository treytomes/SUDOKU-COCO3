{
 "cells": [
  {
   "cell_type": "code",
   "execution_count": 14,
   "metadata": {},
   "outputs": [],
   "source": [
    "# Sudoku Generator Algorithm\n",
    "# Original source: www.101computing.net/sudoku-generator-algorithm/\n",
    "\n",
    "# An attempt to un-recursify the code before reimplementing on the Coco 3.\n",
    "\n",
    "from random import randint, shuffle\n",
    "from time import sleep\n",
    "\n",
    "# Initialize empty 9 by 9 grid.\n",
    "grid = []\n",
    "grid.append([0, 0, 0, 0, 0, 0, 0, 0, 0])\n",
    "grid.append([0, 0, 0, 0, 0, 0, 0, 0, 0])\n",
    "grid.append([0, 0, 0, 0, 0, 0, 0, 0, 0])\n",
    "grid.append([0, 0, 0, 0, 0, 0, 0, 0, 0])\n",
    "grid.append([0, 0, 0, 0, 0, 0, 0, 0, 0])\n",
    "grid.append([0, 0, 0, 0, 0, 0, 0, 0, 0])\n",
    "grid.append([0, 0, 0, 0, 0, 0, 0, 0, 0])\n",
    "grid.append([0, 0, 0, 0, 0, 0, 0, 0, 0])\n",
    "grid.append([0, 0, 0, 0, 0, 0, 0, 0, 0])\n",
    "\n",
    "copyGrid = []\n",
    "copyGrid.append([0, 0, 0, 0, 0, 0, 0, 0, 0])\n",
    "copyGrid.append([0, 0, 0, 0, 0, 0, 0, 0, 0])\n",
    "copyGrid.append([0, 0, 0, 0, 0, 0, 0, 0, 0])\n",
    "copyGrid.append([0, 0, 0, 0, 0, 0, 0, 0, 0])\n",
    "copyGrid.append([0, 0, 0, 0, 0, 0, 0, 0, 0])\n",
    "copyGrid.append([0, 0, 0, 0, 0, 0, 0, 0, 0])\n",
    "copyGrid.append([0, 0, 0, 0, 0, 0, 0, 0, 0])\n",
    "copyGrid.append([0, 0, 0, 0, 0, 0, 0, 0, 0])\n",
    "copyGrid.append([0, 0, 0, 0, 0, 0, 0, 0, 0])\n"
   ]
  },
  {
   "cell_type": "code",
   "execution_count": 15,
   "metadata": {
    "jupyter": {
     "source_hidden": true
    }
   },
   "outputs": [],
   "source": [
    "def drawGrid():\n",
    "    \"\"\"Use the standard output stream to render the grid.\"\"\"\n",
    "    for row in range(0, 9):\n",
    "        if row > 0 and (row % 3) == 0:\n",
    "            print(\"---+---+---\")\n",
    "        for col in range(0, 9):\n",
    "            if col > 0 and (col % 3) == 0:\n",
    "                print(\"|\", end=\"\")\n",
    "            print(\" \" if grid[row][col] == 0 else grid[row][col], end=\"\")\n",
    "        print()"
   ]
  },
  {
   "cell_type": "code",
   "execution_count": 16,
   "metadata": {
    "jupyter": {
     "source_hidden": true
    }
   },
   "outputs": [],
   "source": [
    "def checkGrid():\n",
    "    \"\"\"Check to see if the grid is full.\"\"\"\n",
    "    for row in range(0, 9):\n",
    "        for col in range(0, 9):\n",
    "            if grid[row][col] == 0:\n",
    "                return False\n",
    "    # We have a complete grid!  \n",
    "    return True"
   ]
  },
  {
   "cell_type": "code",
   "execution_count": 17,
   "metadata": {
    "jupyter": {
     "source_hidden": true
    }
   },
   "outputs": [],
   "source": [
    "def findFirstEmptyCell():\n",
    "    \"\"\"Find the first empty cell.\"\"\"\n",
    "    for r in range(0, 9):\n",
    "        for c in range(0, 9):\n",
    "            if grid[r][c] == 0:\n",
    "                return r, c"
   ]
  },
  {
   "cell_type": "code",
   "execution_count": 18,
   "metadata": {
    "jupyter": {
     "source_hidden": true
    }
   },
   "outputs": [],
   "source": [
    "def isNumberInColumn(n, c):\n",
    "    \"\"\"Check that this value has not already be used on this column.\"\"\"\n",
    "    for r in range(0, 9):\n",
    "        if grid[r][c] == n:\n",
    "            return True\n",
    "    return False"
   ]
  },
  {
   "cell_type": "code",
   "execution_count": 19,
   "metadata": {
    "jupyter": {
     "source_hidden": true
    }
   },
   "outputs": [],
   "source": [
    "def isNumberInRow(n, r):\n",
    "    \"\"\"Check that this value has not already be used on this row.\"\"\"\n",
    "    for c in range(0, 9):\n",
    "        if grid[r][c] == n:\n",
    "            return True\n",
    "    return False"
   ]
  },
  {
   "cell_type": "code",
   "execution_count": 20,
   "metadata": {
    "jupyter": {
     "source_hidden": true
    }
   },
   "outputs": [],
   "source": [
    "def isNumberInSquare(n, r, c):\n",
    "    \"\"\"Is the number already in the 3x3 square?\"\"\"\n",
    "    rs = int(r / 3) * 3\n",
    "    cs = int(c / 3) * 3\n",
    "    for rc in range(rs, rs + 3):\n",
    "        for cc in range(cs, cs + 3):\n",
    "            if grid[rs][cs] == n:\n",
    "                return True\n",
    "    return False"
   ]
  },
  {
   "cell_type": "code",
   "execution_count": 21,
   "metadata": {
    "jupyter": {
     "source_hidden": true
    }
   },
   "outputs": [],
   "source": [
    "# numberList is only used in fillGrid, but it seems best to keep it's shuffled state between calls.\n",
    "numberList = [1, 2, 3, 4, 5, 6, 7, 8, 9]\n",
    "\n",
    "def fillGrid():\n",
    "    \"\"\"A backtracking/recursive function to check all possible combinations of numbers until a valid grid is found.\"\"\"\n",
    "    row, col = findFirstEmptyCell()\n",
    "    \n",
    "    shuffle(numberList)\n",
    "    for value in numberList:\n",
    "        if isNumberInRow(value, row):\n",
    "            continue\n",
    "        if isNumberInColumn(value, col):\n",
    "            continue\n",
    "        if isNumberInSquare(value, row, col):\n",
    "            continue\n",
    "\n",
    "        grid[row][col] = value\n",
    "        if checkGrid():\n",
    "            return True\n",
    "        if fillGrid():\n",
    "            return True\n",
    "    \n",
    "    grid[row][col] = 0\n",
    "    return False"
   ]
  },
  {
   "cell_type": "code",
   "execution_count": 22,
   "metadata": {},
   "outputs": [],
   "source": [
    "def solveGrid():\n",
    "    \"\"\"A backtracking/recursive function to check all possible combinations of numbers until a solution is found.\"\"\"\n",
    "    global counter\n",
    "    \n",
    "    row, col = findFirstEmptyCell()\n",
    "\n",
    "    for value in range(1, 10):\n",
    "        if isNumberInRow(value, row):\n",
    "            continue\n",
    "        if isNumberInColumn(value, col):\n",
    "            continue\n",
    "        if isNumberInSquare(value, row, col):\n",
    "            continue\n",
    "\n",
    "        grid[row][col] = value\n",
    "        if checkGrid():\n",
    "            counter += 1\n",
    "            break\n",
    "        if solveGrid():\n",
    "            return True\n",
    "    \n",
    "    grid[row][col] = 0\n",
    "    return False"
   ]
  },
  {
   "cell_type": "code",
   "execution_count": 23,
   "metadata": {},
   "outputs": [],
   "source": [
    "def cloneGrid():\n",
    "    \"\"\"Take a full copy of the grid.\"\"\"\n",
    "    for r in range(0, 9):\n",
    "        for c in range(0, 9):\n",
    "            copyGrid[r][c] = grid[r][c]"
   ]
  },
  {
   "cell_type": "code",
   "execution_count": 24,
   "metadata": {},
   "outputs": [],
   "source": [
    "def restoreGrid():\n",
    "    \"\"\"Restore the grid.\"\"\"\n",
    "    for r in range(0, 9):\n",
    "        for c in range(0, 9):\n",
    "            grid[r][c] = copyGrid[r][c]"
   ]
  },
  {
   "cell_type": "code",
   "execution_count": 25,
   "metadata": {
    "tags": []
   },
   "outputs": [
    {
     "name": "stdout",
     "output_type": "stream",
     "text": [
      "615|892|347\n",
      "891|673|452\n",
      "739|564|281\n",
      "---+---+---\n",
      "972|481|536\n",
      "256|739|814\n",
      "524|918|763\n",
      "---+---+---\n",
      "148|357|629\n",
      "387|246|195\n",
      "463|125|978\n",
      "\n",
      "===========\n",
      "\n",
      "   |8  |347\n",
      "89 |6  |   \n",
      " 39|  4|28 \n",
      "---+---+---\n",
      " 72|481| 36\n",
      "2 6|   | 14\n",
      " 2 | 18| 6 \n",
      "---+---+---\n",
      "14 |35 |   \n",
      "  7|2  |  5\n",
      "4 3| 2 |978\n",
      "\n",
      "===========\n",
      "\n",
      "Sudoku Grid Ready\n"
     ]
    }
   ],
   "source": [
    "# Generate a fully solved grid.\n",
    "fillGrid()\n",
    "drawGrid()\n",
    "\n",
    "# Start removing numbers one by one.\n",
    "\n",
    "# A higher number of attempts will end up removing more numbers from the grid,\n",
    "# potentially resulting in more difficiult grids to solve!\n",
    "attempts = 5 \n",
    "while attempts > 0:\n",
    "    # Select a random cell that is not already empty.\n",
    "    row = randint(0, 8)\n",
    "    col = randint(0, 8)\n",
    "    while grid[row][col] == 0:\n",
    "        row = randint(0, 8)\n",
    "        col = randint(0, 8)\n",
    "    # Remember its cell value in case we need to put it back.\n",
    "    backup = grid[row][col]\n",
    "    grid[row][col] = 0\n",
    "    \n",
    "    cloneGrid()\n",
    "    \n",
    "    # Count the number of solutions that this grid has (using a backtracking approach implemented in the solveGrid() function).\n",
    "    counter = 0\n",
    "    solveGrid()\n",
    "    \n",
    "    restoreGrid()\n",
    "    \n",
    "    # If the number of solution is different from 1 then we need to cancel the change by putting the value we took away back in the grid.\n",
    "    if counter != 1:\n",
    "        grid[row][col] = backup\n",
    "        # We could stop here, but we can also have another attempt with a different cell just to try to remove more numbers.\n",
    "        attempts -= 1\n",
    "    \n",
    "    # print(\"\\n===========\\n\")\n",
    "    # drawGrid(grid) \n",
    "\n",
    "print(\"\\n===========\\n\")\n",
    "drawGrid() \n",
    "print(\"\\n===========\\n\")\n",
    "print(\"Sudoku Grid Ready\")"
   ]
  },
  {
   "cell_type": "code",
   "execution_count": null,
   "metadata": {},
   "outputs": [],
   "source": []
  }
 ],
 "metadata": {
  "kernelspec": {
   "display_name": "Python 3",
   "language": "python",
   "name": "python3"
  },
  "language_info": {
   "codemirror_mode": {
    "name": "ipython",
    "version": 3
   },
   "file_extension": ".py",
   "mimetype": "text/x-python",
   "name": "python",
   "nbconvert_exporter": "python",
   "pygments_lexer": "ipython3",
   "version": "3.8.3"
  }
 },
 "nbformat": 4,
 "nbformat_minor": 4
}
